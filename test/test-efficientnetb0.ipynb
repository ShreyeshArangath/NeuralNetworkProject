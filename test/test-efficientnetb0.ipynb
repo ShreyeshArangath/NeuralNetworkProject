{
 "cells": [
  {
   "cell_type": "code",
   "execution_count": 143,
   "id": "5ac6be5e-88ca-4678-864f-dfa9dfc0b918",
   "metadata": {},
   "outputs": [],
   "source": [
    "import tensorflow as tf\n",
    "from tensorflow import keras, sparse \n",
    "from keras import layers, applications\n",
    "# from keras.preprocessing import image\n",
    "from keras.applications.efficientnet import EfficientNetB0, EfficientNetB5, EfficientNetB7\n",
    "from keras.applications.resnet_v2 import ResNet152V2\n",
    "from keras.applications.densenet import DenseNet121\n",
    "# from keras.applications import EfficientNetB0\n",
    "from keras.applications.efficientnet import preprocess_input\n",
    "from keras.preprocessing.image import ImageDataGenerator\n",
    "\n",
    "\n",
    "import os \n",
    "import numpy as np\n",
    "import cv2\n",
    "import pandas as pd\n",
    "import matplotlib.pyplot as plt\n",
    "from keras.models import Sequential\n",
    "\n",
    "# Data preprocessing \n",
    "from keras.preprocessing.image import load_img, img_to_array\n",
    " "
   ]
  },
  {
   "cell_type": "code",
   "execution_count": 144,
   "id": "b6e994d5-6388-410d-b7b8-71deb9436759",
   "metadata": {},
   "outputs": [],
   "source": [
    "def getDataset(dataFolder, subset, imageSize = (224, 224), batchSize = 32):\n",
    "    train_ds = keras.utils.image_dataset_from_directory(\n",
    "      dataFolder,\n",
    "      seed=123,\n",
    "      image_size=imageSize,\n",
    "      batch_size=batchSize)\n",
    "    return train_ds\n",
    "\n",
    "\n",
    "def configurePerformance(train_ds, val_ds): \n",
    "    AUTOTUNE = tf.data.AUTOTUNE\n",
    "    train_ds = train_ds.cache().shuffle(1000).prefetch(buffer_size=AUTOTUNE)\n",
    "    val_ds = val_ds.cache().prefetch(buffer_size=AUTOTUNE)\n",
    "    return train_ds, val_ds\n",
    "\n",
    "# def buildModel(dropoutRate, numClasses, inpShape = (224, 224, 3)):\n",
    "import pickle\n",
    "\n",
    "def dumpModel(modelName, phase): \n",
    "    # Save the trained model as a pickle string.\n",
    "    modelName = \"model_\" + modelName + \"_ \" + phase + \".pkl\"\n",
    "    pickle.dump(model, open(modelName, 'wb'))\n",
    "\n",
    "\n"
   ]
  },
  {
   "cell_type": "code",
   "execution_count": 145,
   "id": "a1d06caf-e4d9-4f7a-bed6-84686a8c9e13",
   "metadata": {},
   "outputs": [
    {
     "name": "stdout",
     "output_type": "stream",
     "text": [
      "Found 6000 files belonging to 7 classes.\n",
      "Found 1500 files belonging to 7 classes.\n"
     ]
    }
   ],
   "source": [
    "EPOCHS = 5\n",
    "modelName = \"efficientNetB0\"\n",
    "inpShape =  (224, 224, 3)\n",
    "trainingFolder = 'data/x5_RGB/train/RGB/'\n",
    "testingFolder = 'data/x5_RGB/test_with_labels/RGB/'\n",
    "train_ds = getDataset(trainingFolder, \"training\")\n",
    "val_ds =  getDataset(testingFolder, \"validation\")\n"
   ]
  },
  {
   "cell_type": "code",
   "execution_count": 146,
   "id": "a1592f46-c9d7-427e-90a2-12331c3727bd",
   "metadata": {},
   "outputs": [],
   "source": [
    "dropoutRate = 0.2\n",
    "numClasses = 7 \n",
    "inp = layers.Input(shape=inpShape)\n",
    "baseModel = EfficientNetB0(weights=\"imagenet\",\n",
    "                   include_top = False) \n",
    "\n",
    "baseModel.trainable = False \n",
    "x = baseModel(inp, training=False)\n",
    "x =  layers.GlobalAveragePooling2D(name=\"avg_pool\")(x)\n",
    "x = layers.Dropout(dropoutRate, noise_shape=None, seed=None)(x)\n",
    "out = layers.Dense(numClasses,activation=\"softmax\", name = \"pred\")(x)\n",
    "model = keras.Model(inp, out, name=\"FeatureExtraction-B0\")\n",
    "model.compile(optimizer = tf.keras.optimizers.Adam(learning_rate=0.01),\n",
    "          loss=tf.keras.losses.SparseCategoricalCrossentropy(),\n",
    "          metrics=['accuracy'])"
   ]
  },
  {
   "cell_type": "code",
   "execution_count": 147,
   "id": "69715cb6-c486-42ab-b827-81f51f919ead",
   "metadata": {},
   "outputs": [
    {
     "name": "stdout",
     "output_type": "stream",
     "text": [
      "Epoch 1/5\n"
     ]
    },
    {
     "name": "stderr",
     "output_type": "stream",
     "text": [
      "2022-03-06 18:37:11.551205: I tensorflow/core/grappler/optimizers/custom_graph_optimizer_registry.cc:113] Plugin optimizer for device_type GPU is enabled.\n"
     ]
    },
    {
     "name": "stdout",
     "output_type": "stream",
     "text": [
      "188/188 [==============================] - ETA: 0s - loss: 0.3980 - accuracy: 0.8618"
     ]
    },
    {
     "name": "stderr",
     "output_type": "stream",
     "text": [
      "2022-03-06 18:37:55.089202: I tensorflow/core/grappler/optimizers/custom_graph_optimizer_registry.cc:113] Plugin optimizer for device_type GPU is enabled.\n"
     ]
    },
    {
     "name": "stdout",
     "output_type": "stream",
     "text": [
      "188/188 [==============================] - 59s 294ms/step - loss: 0.3980 - accuracy: 0.8618 - val_loss: 0.9846 - val_accuracy: 0.7013\n",
      "Epoch 2/5\n",
      "188/188 [==============================] - 56s 295ms/step - loss: 0.2322 - accuracy: 0.9192 - val_loss: 1.0262 - val_accuracy: 0.6960\n",
      "Epoch 3/5\n",
      "188/188 [==============================] - 55s 290ms/step - loss: 0.1858 - accuracy: 0.9342 - val_loss: 1.3487 - val_accuracy: 0.6740\n",
      "Epoch 4/5\n",
      "188/188 [==============================] - 53s 278ms/step - loss: 0.1781 - accuracy: 0.9350 - val_loss: 1.1395 - val_accuracy: 0.7180\n",
      "Epoch 5/5\n",
      "188/188 [==============================] - 53s 280ms/step - loss: 0.1805 - accuracy: 0.9362 - val_loss: 1.2097 - val_accuracy: 0.7233\n",
      "INFO:tensorflow:Assets written to: ram://6aefa8d1-5dda-416c-8dcc-681d43097ad8/assets\n"
     ]
    }
   ],
   "source": [
    "# Feature extraction without the top layers \n",
    "hist_results = model.fit(\n",
    "  train_ds,\n",
    "  validation_data=val_ds,\n",
    "  epochs=EPOCHS\n",
    ")\n",
    "\n",
    "dumpModel(modelName, \"phase1\")\n"
   ]
  },
  {
   "cell_type": "code",
   "execution_count": 149,
   "id": "c8f1373f-eb00-4448-a6d0-3ebcff981dff",
   "metadata": {},
   "outputs": [],
   "source": [
    "# Fine tuning the Feature Extraction Model \n",
    "baseModel.trainable = True\n",
    "for layer in model.layers[1].layers:\n",
    "    if isinstance(layer, layers.BatchNormalization):\n",
    "        layer.trainable = False\n",
    "        \n",
    "model.compile(loss = tf.keras.losses.SparseCategoricalCrossentropy(),\n",
    "              optimizer = tf.keras.optimizers.Adam(learning_rate=0.0001),\n",
    "              metrics = [\"accuracy\"])\n",
    "\n"
   ]
  },
  {
   "cell_type": "code",
   "execution_count": 150,
   "id": "c87266f8-b0f7-44e9-bf75-ceda25778be9",
   "metadata": {},
   "outputs": [
    {
     "name": "stdout",
     "output_type": "stream",
     "text": [
      "Epoch 1/5\n"
     ]
    },
    {
     "name": "stderr",
     "output_type": "stream",
     "text": [
      "2022-03-06 18:42:56.020300: I tensorflow/core/grappler/optimizers/custom_graph_optimizer_registry.cc:113] Plugin optimizer for device_type GPU is enabled.\n"
     ]
    },
    {
     "name": "stdout",
     "output_type": "stream",
     "text": [
      "188/188 [==============================] - ETA: 0s - loss: 0.1391 - accuracy: 0.9530"
     ]
    },
    {
     "name": "stderr",
     "output_type": "stream",
     "text": [
      "2022-03-06 18:46:02.375290: I tensorflow/core/grappler/optimizers/custom_graph_optimizer_registry.cc:113] Plugin optimizer for device_type GPU is enabled.\n"
     ]
    },
    {
     "name": "stdout",
     "output_type": "stream",
     "text": [
      "188/188 [==============================] - 202s 1s/step - loss: 0.1391 - accuracy: 0.9530 - val_loss: 1.1900 - val_accuracy: 0.7293\n",
      "Epoch 2/5\n",
      "188/188 [==============================] - 185s 981ms/step - loss: 0.0498 - accuracy: 0.9810 - val_loss: 1.3069 - val_accuracy: 0.7120\n",
      "Epoch 3/5\n",
      "188/188 [==============================] - 185s 985ms/step - loss: 0.0207 - accuracy: 0.9927 - val_loss: 1.1580 - val_accuracy: 0.7733\n",
      "Epoch 4/5\n",
      "188/188 [==============================] - 185s 984ms/step - loss: 0.0135 - accuracy: 0.9962 - val_loss: 1.1539 - val_accuracy: 0.7800\n",
      "Epoch 5/5\n",
      "188/188 [==============================] - 200s 1s/step - loss: 0.0083 - accuracy: 0.9973 - val_loss: 1.6415 - val_accuracy: 0.7100\n",
      "INFO:tensorflow:Assets written to: ram://a506b280-e7e8-4272-8bba-d3da429fb18e/assets\n"
     ]
    }
   ],
   "source": [
    "# Train it again \n",
    "hist_results_tuned = model.fit(\n",
    "  train_ds,\n",
    "  validation_data=val_ds,\n",
    "  epochs=EPOCHS\n",
    ")\n",
    "\n",
    "dumpModel(modelName, \"phase2\")\n"
   ]
  },
  {
   "cell_type": "code",
   "execution_count": 125,
   "id": "d898caa7-24ae-42d6-883c-3bc9ab3dca50",
   "metadata": {},
   "outputs": [
    {
     "name": "stdout",
     "output_type": "stream",
     "text": [
      "INFO:tensorflow:Assets written to: ram://cb986ee5-de15-4079-9011-3659a85c3883/assets\n"
     ]
    }
   ],
   "source": [
    "\n",
    "\n"
   ]
  },
  {
   "cell_type": "code",
   "execution_count": 126,
   "id": "aa1e5a1b-28d9-4cad-be7f-73cc7943c747",
   "metadata": {},
   "outputs": [
    {
     "name": "stderr",
     "output_type": "stream",
     "text": [
      "2022-03-05 17:47:34.977248: I tensorflow/core/grappler/optimizers/custom_graph_optimizer_registry.cc:113] Plugin optimizer for device_type GPU is enabled.\n"
     ]
    },
    {
     "name": "stdout",
     "output_type": "stream",
     "text": [
      "47/47 [==============================] - 14s 246ms/step\n"
     ]
    }
   ],
   "source": [
    "preds = model.predict(val_ds, verbose = 1)\n",
    "model.evaluate(val_ds)"
   ]
  },
  {
   "cell_type": "code",
   "execution_count": 130,
   "id": "a622d974-c169-49c5-8d9e-b67db1ae3749",
   "metadata": {},
   "outputs": [],
   "source": [
    "# def getImageRepresentation():\n",
    "#     import random\n",
    "#     pred_labels = tf.argmax(preds, axis=1)\n",
    "#     test_labels = np.concatenate([y for x, y in val_ds], axis=0)\n",
    "#     test_image_batches = []\n",
    "#     for images, labels in val_ds.take(-1):\n",
    "#         test_image_batches.append(images.numpy())\n",
    "\n",
    "#     test_images = [item for sublist in test_image_batches for item in sublist]\n",
    "#     plt.figure(figsize = (20,20))\n",
    "#     for i in range(9):\n",
    "#         random_int_index = random.choice(range(len(test_images)))\n",
    "#         plt.subplot(3,3,i+1)\n",
    "#         plt.imshow(test_images[random_int_index]/255.)\n",
    "#         if test_labels[random_int_index] == pred_labels[random_int_index]:\n",
    "#             color = \"g\"\n",
    "#         else:\n",
    "#             color = \"r\"\n",
    "#         plt.title(\"True Label: \" + class_names[test_labels[random_int_index]] + \" || \" + \"Predicted Label: \" +\n",
    "#                   class_names[pred_labels[random_int_index]] + \"\\n\" + \n",
    "#                   str(np.asarray(tf.reduce_max(preds, axis = 1))[random_int_index]), c=color)\n",
    "#         plt.axis(False);"
   ]
  },
  {
   "cell_type": "code",
   "execution_count": 131,
   "id": "dfae637e-8181-4f4a-8845-ff71618dad1a",
   "metadata": {},
   "outputs": [
    {
     "name": "stdout",
     "output_type": "stream",
     "text": [
      "47/47 [==============================] - 12s 228ms/step - loss: 0.9283 - accuracy: 0.7053\n"
     ]
    },
    {
     "data": {
      "text/plain": [
       "[0.9282761216163635, 0.7053333520889282]"
      ]
     },
     "execution_count": 131,
     "metadata": {},
     "output_type": "execute_result"
    }
   ],
   "source": []
  },
  {
   "cell_type": "code",
   "execution_count": null,
   "id": "3b870cc2-2472-4316-a976-7d072dc6af9c",
   "metadata": {},
   "outputs": [],
   "source": []
  }
 ],
 "metadata": {
  "kernelspec": {
   "display_name": "Python 3 (ipykernel)",
   "language": "python",
   "name": "python3"
  },
  "language_info": {
   "codemirror_mode": {
    "name": "ipython",
    "version": 3
   },
   "file_extension": ".py",
   "mimetype": "text/x-python",
   "name": "python",
   "nbconvert_exporter": "python",
   "pygments_lexer": "ipython3",
   "version": "3.9.10"
  }
 },
 "nbformat": 4,
 "nbformat_minor": 5
}
