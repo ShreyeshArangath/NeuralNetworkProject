{
 "cells": [
  {
   "cell_type": "code",
   "execution_count": 8,
   "id": "13ae5808-3e95-4677-9854-dce7fe1d9a20",
   "metadata": {},
   "outputs": [],
   "source": [
    "import tensorflow as tf\n",
    "from tensorflow import keras, sparse \n",
    "from keras import layers, applications\n",
    "# from keras.preprocessing import image\n",
    "from keras.applications.efficientnet import EfficientNetB0, EfficientNetB5, EfficientNetB7\n",
    "# from keras.applications.resnet50 import ResNet50\n",
    "from keras.applications.densenet import DenseNet121\n",
    "# from keras.applications import EfficientNetB0\n",
    "from keras.applications.efficientnet import preprocess_input\n",
    "from keras.preprocessing.image import ImageDataGenerator\n",
    "\n",
    "\n",
    "import os \n",
    "import numpy as np\n",
    "import cv2\n",
    "import pandas as pd\n",
    "import matplotlib.pyplot as plt\n",
    "from keras.models import Sequential\n",
    "\n",
    "# Data preprocessing \n",
    "from keras.preprocessing.image import load_img, img_to_array\n",
    " "
   ]
  },
  {
   "cell_type": "code",
   "execution_count": 9,
   "id": "296f2776-846d-432e-89a1-be4d17cc33f7",
   "metadata": {},
   "outputs": [],
   "source": [
    "def getDataset(dataFolder, subset, imageSize = (224, 224), batchSize = 32):\n",
    "    train_ds = keras.utils.image_dataset_from_directory(\n",
    "      dataFolder,\n",
    "      seed=123,\n",
    "      image_size=imageSize,\n",
    "      batch_size=batchSize)\n",
    "    return train_ds\n",
    "\n",
    "\n",
    "def configurePerformance(train_ds, val_ds): \n",
    "    AUTOTUNE = tf.data.AUTOTUNE\n",
    "    train_ds = train_ds.cache().shuffle(1000).prefetch(buffer_size=AUTOTUNE)\n",
    "    val_ds = val_ds.cache().prefetch(buffer_size=AUTOTUNE)\n",
    "    return train_ds, val_ds\n",
    "\n",
    "# def buildModel(dropoutRate, numClasses, inpShape = (224, 224, 3)):\n",
    "import pickle\n",
    "\n",
    "def dumpModel(modelName, phase): \n",
    "    # Save the trained model as a pickle string.\n",
    "    modelName = \"model_\" + modelName + \"_ \" + phase + \".pkl\"\n",
    "    pickle.dump(model, open(modelName, 'wb'))\n",
    "\n",
    "\n"
   ]
  },
  {
   "cell_type": "code",
   "execution_count": 10,
   "id": "e041a02f-a02c-4e68-af79-cc20633d75a8",
   "metadata": {},
   "outputs": [
    {
     "name": "stdout",
     "output_type": "stream",
     "text": [
      "Found 6000 files belonging to 7 classes.\n",
      "Found 1500 files belonging to 7 classes.\n",
      "Downloading data from https://storage.googleapis.com/tensorflow/keras-applications/resnet/resnet50_weights_tf_dim_ordering_tf_kernels_notop.h5\n",
      "94773248/94765736 [==============================] - 7s 0us/step\n",
      "94781440/94765736 [==============================] - 7s 0us/step\n"
     ]
    }
   ],
   "source": [
    "EPOCHS = 5\n",
    "modelName = \"ResNet50\"\n",
    "inpShape =  (224, 224, 3)\n",
    "trainingFolder = 'data/x5/train/RGB/'\n",
    "testingFolder = 'data/x5/test_with_labels/RGB/'\n",
    "train_ds = getDataset(trainingFolder, \"training\")\n",
    "val_ds =  getDataset(testingFolder, \"validation\")\n",
    "\n",
    "dropoutRate = 0.2\n",
    "numClasses = 7 \n",
    "inp = layers.Input(shape=inpShape)\n",
    "baseModel = tf.keras.applications.resnet50.ResNet50(weights=\"imagenet\",\n",
    "                   include_top = False) \n",
    "\n",
    "baseModel.trainable = False \n",
    "x = baseModel(inp, training=False)\n",
    "x =  layers.GlobalAveragePooling2D(name=\"avg_pool\")(x)\n",
    "x = layers.Dropout(dropoutRate, noise_shape=None, seed=None)(x)\n",
    "out = layers.Dense(numClasses,activation=\"softmax\", name = \"pred\")(x)\n",
    "model = keras.Model(inp, out, name=\"FeatureExtraction-ResNet50\")\n",
    "model.compile(optimizer = tf.keras.optimizers.Adam(learning_rate=0.01),\n",
    "          loss=tf.keras.losses.SparseCategoricalCrossentropy(),\n",
    "          metrics=['accuracy'])\n",
    "\n",
    "# dumpModel(modelName, \"phase1\")"
   ]
  },
  {
   "cell_type": "code",
   "execution_count": 11,
   "id": "872ff9fe-2be1-4bad-b37c-3ab8ba0f447e",
   "metadata": {},
   "outputs": [
    {
     "name": "stdout",
     "output_type": "stream",
     "text": [
      "Epoch 1/5\n"
     ]
    },
    {
     "name": "stderr",
     "output_type": "stream",
     "text": [
      "2022-03-11 14:24:18.478149: I tensorflow/core/grappler/optimizers/custom_graph_optimizer_registry.cc:113] Plugin optimizer for device_type GPU is enabled.\n"
     ]
    },
    {
     "name": "stdout",
     "output_type": "stream",
     "text": [
      "188/188 [==============================] - ETA: 0s - loss: 0.8308 - accuracy: 0.8270"
     ]
    },
    {
     "name": "stderr",
     "output_type": "stream",
     "text": [
      "2022-03-11 14:25:31.685290: I tensorflow/core/grappler/optimizers/custom_graph_optimizer_registry.cc:113] Plugin optimizer for device_type GPU is enabled.\n"
     ]
    },
    {
     "name": "stdout",
     "output_type": "stream",
     "text": [
      "188/188 [==============================] - 92s 467ms/step - loss: 0.8308 - accuracy: 0.8270 - val_loss: 1.6082 - val_accuracy: 0.6773\n",
      "Epoch 2/5\n",
      "188/188 [==============================] - 79s 421ms/step - loss: 0.3811 - accuracy: 0.9035 - val_loss: 2.6691 - val_accuracy: 0.6413\n",
      "Epoch 3/5\n",
      "188/188 [==============================] - 78s 414ms/step - loss: 0.3937 - accuracy: 0.9122 - val_loss: 2.9186 - val_accuracy: 0.6567\n",
      "Epoch 4/5\n",
      "188/188 [==============================] - 79s 417ms/step - loss: 0.3173 - accuracy: 0.9305 - val_loss: 1.4877 - val_accuracy: 0.7467\n",
      "Epoch 5/5\n",
      "188/188 [==============================] - 77s 409ms/step - loss: 0.3053 - accuracy: 0.9362 - val_loss: 2.7314 - val_accuracy: 0.6787\n"
     ]
    }
   ],
   "source": [
    "# Feature extraction without the top layers \n",
    "hist_results = model.fit(\n",
    "  train_ds,\n",
    "  validation_data=val_ds,\n",
    "  epochs=EPOCHS\n",
    ")\n"
   ]
  },
  {
   "cell_type": "code",
   "execution_count": null,
   "id": "958689d7-8082-4937-a21f-dd934a5dd5d9",
   "metadata": {},
   "outputs": [],
   "source": [
    "# Fine tuning the Feature Extraction Model \n",
    "baseModel.trainable = True\n",
    "for layer in model.layers[1].layers:\n",
    "    if isinstance(layer, layers.BatchNormalization):\n",
    "        layer.trainable = False\n",
    "        \n",
    "model.compile(loss = tf.keras.losses.SparseCategoricalCrossentropy(),\n",
    "              optimizer = tf.keras.optimizers.Adam(learning_rate=0.0001),\n",
    "              metrics = [\"accuracy\"])\n",
    "\n",
    "# Train it again \n",
    "hist_results_tuned = model.fit(\n",
    "  train_ds,\n",
    "  validation_data=val_ds,\n",
    "  epochs=EPOCHS\n",
    ")\n"
   ]
  },
  {
   "cell_type": "code",
   "execution_count": null,
   "id": "ef646857-a761-4278-8740-8376e1f28ad7",
   "metadata": {},
   "outputs": [],
   "source": []
  }
 ],
 "metadata": {
  "kernelspec": {
   "display_name": "Python 3 (ipykernel)",
   "language": "python",
   "name": "python3"
  },
  "language_info": {
   "codemirror_mode": {
    "name": "ipython",
    "version": 3
   },
   "file_extension": ".py",
   "mimetype": "text/x-python",
   "name": "python",
   "nbconvert_exporter": "python",
   "pygments_lexer": "ipython3",
   "version": "3.9.10"
  }
 },
 "nbformat": 4,
 "nbformat_minor": 5
}
